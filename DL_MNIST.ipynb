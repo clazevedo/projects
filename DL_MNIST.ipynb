{
  "nbformat": 4,
  "nbformat_minor": 0,
  "metadata": {
    "colab": {
      "provenance": []
    },
    "kernelspec": {
      "name": "python3",
      "display_name": "Python 3"
    },
    "language_info": {
      "name": "python"
    }
  },
  "cells": [
    {
      "cell_type": "markdown",
      "source": [
        "**MNIST DATASET**"
      ],
      "metadata": {
        "id": "KeECyHPW1OU3"
      }
    },
    {
      "cell_type": "code",
      "source": [
        "import tensorflow as tf\n",
        "from tensorflow.keras.datasets import mnist\n",
        "\n",
        "# Load the MNIST dataset\n",
        "(x_train, y_train), (x_test, y_test) = mnist.load_data()"
      ],
      "metadata": {
        "colab": {
          "base_uri": "https://localhost:8080/"
        },
        "id": "qNmV_Nq3z9a9",
        "outputId": "1b597625-a606-43b4-9eeb-0a9452022ba9"
      },
      "execution_count": 2,
      "outputs": [
        {
          "output_type": "stream",
          "name": "stdout",
          "text": [
            "Downloading data from https://storage.googleapis.com/tensorflow/tf-keras-datasets/mnist.npz\n",
            "11490434/11490434 [==============================] - 0s 0us/step\n"
          ]
        }
      ]
    },
    {
      "cell_type": "markdown",
      "source": [
        "*Exercício 2*\n",
        "\n",
        "**1 – Train a DNN**"
      ],
      "metadata": {
        "id": "qgFILlyh0QRl"
      }
    },
    {
      "cell_type": "code",
      "source": [
        "pip install tensorflow\n"
      ],
      "metadata": {
        "colab": {
          "base_uri": "https://localhost:8080/"
        },
        "id": "G3XNH6mx0Pyd",
        "outputId": "055c4373-1f02-48df-eb42-286034b63532"
      },
      "execution_count": 10,
      "outputs": [
        {
          "output_type": "stream",
          "name": "stdout",
          "text": [
            "Requirement already satisfied: tensorflow in /usr/local/lib/python3.10/dist-packages (2.15.0)\n",
            "Requirement already satisfied: absl-py>=1.0.0 in /usr/local/lib/python3.10/dist-packages (from tensorflow) (1.4.0)\n",
            "Requirement already satisfied: astunparse>=1.6.0 in /usr/local/lib/python3.10/dist-packages (from tensorflow) (1.6.3)\n",
            "Requirement already satisfied: flatbuffers>=23.5.26 in /usr/local/lib/python3.10/dist-packages (from tensorflow) (23.5.26)\n",
            "Requirement already satisfied: gast!=0.5.0,!=0.5.1,!=0.5.2,>=0.2.1 in /usr/local/lib/python3.10/dist-packages (from tensorflow) (0.5.4)\n",
            "Requirement already satisfied: google-pasta>=0.1.1 in /usr/local/lib/python3.10/dist-packages (from tensorflow) (0.2.0)\n",
            "Requirement already satisfied: h5py>=2.9.0 in /usr/local/lib/python3.10/dist-packages (from tensorflow) (3.9.0)\n",
            "Requirement already satisfied: libclang>=13.0.0 in /usr/local/lib/python3.10/dist-packages (from tensorflow) (16.0.6)\n",
            "Requirement already satisfied: ml-dtypes~=0.2.0 in /usr/local/lib/python3.10/dist-packages (from tensorflow) (0.2.0)\n",
            "Requirement already satisfied: numpy<2.0.0,>=1.23.5 in /usr/local/lib/python3.10/dist-packages (from tensorflow) (1.23.5)\n",
            "Requirement already satisfied: opt-einsum>=2.3.2 in /usr/local/lib/python3.10/dist-packages (from tensorflow) (3.3.0)\n",
            "Requirement already satisfied: packaging in /usr/local/lib/python3.10/dist-packages (from tensorflow) (23.2)\n",
            "Requirement already satisfied: protobuf!=4.21.0,!=4.21.1,!=4.21.2,!=4.21.3,!=4.21.4,!=4.21.5,<5.0.0dev,>=3.20.3 in /usr/local/lib/python3.10/dist-packages (from tensorflow) (3.20.3)\n",
            "Requirement already satisfied: setuptools in /usr/local/lib/python3.10/dist-packages (from tensorflow) (67.7.2)\n",
            "Requirement already satisfied: six>=1.12.0 in /usr/local/lib/python3.10/dist-packages (from tensorflow) (1.16.0)\n",
            "Requirement already satisfied: termcolor>=1.1.0 in /usr/local/lib/python3.10/dist-packages (from tensorflow) (2.4.0)\n",
            "Requirement already satisfied: typing-extensions>=3.6.6 in /usr/local/lib/python3.10/dist-packages (from tensorflow) (4.9.0)\n",
            "Requirement already satisfied: wrapt<1.15,>=1.11.0 in /usr/local/lib/python3.10/dist-packages (from tensorflow) (1.14.1)\n",
            "Requirement already satisfied: tensorflow-io-gcs-filesystem>=0.23.1 in /usr/local/lib/python3.10/dist-packages (from tensorflow) (0.35.0)\n",
            "Requirement already satisfied: grpcio<2.0,>=1.24.3 in /usr/local/lib/python3.10/dist-packages (from tensorflow) (1.60.0)\n",
            "Requirement already satisfied: tensorboard<2.16,>=2.15 in /usr/local/lib/python3.10/dist-packages (from tensorflow) (2.15.1)\n",
            "Requirement already satisfied: tensorflow-estimator<2.16,>=2.15.0 in /usr/local/lib/python3.10/dist-packages (from tensorflow) (2.15.0)\n",
            "Requirement already satisfied: keras<2.16,>=2.15.0 in /usr/local/lib/python3.10/dist-packages (from tensorflow) (2.15.0)\n",
            "Requirement already satisfied: wheel<1.0,>=0.23.0 in /usr/local/lib/python3.10/dist-packages (from astunparse>=1.6.0->tensorflow) (0.42.0)\n",
            "Requirement already satisfied: google-auth<3,>=1.6.3 in /usr/local/lib/python3.10/dist-packages (from tensorboard<2.16,>=2.15->tensorflow) (2.17.3)\n",
            "Requirement already satisfied: google-auth-oauthlib<2,>=0.5 in /usr/local/lib/python3.10/dist-packages (from tensorboard<2.16,>=2.15->tensorflow) (1.2.0)\n",
            "Requirement already satisfied: markdown>=2.6.8 in /usr/local/lib/python3.10/dist-packages (from tensorboard<2.16,>=2.15->tensorflow) (3.5.1)\n",
            "Requirement already satisfied: requests<3,>=2.21.0 in /usr/local/lib/python3.10/dist-packages (from tensorboard<2.16,>=2.15->tensorflow) (2.31.0)\n",
            "Requirement already satisfied: tensorboard-data-server<0.8.0,>=0.7.0 in /usr/local/lib/python3.10/dist-packages (from tensorboard<2.16,>=2.15->tensorflow) (0.7.2)\n",
            "Requirement already satisfied: werkzeug>=1.0.1 in /usr/local/lib/python3.10/dist-packages (from tensorboard<2.16,>=2.15->tensorflow) (3.0.1)\n",
            "Requirement already satisfied: cachetools<6.0,>=2.0.0 in /usr/local/lib/python3.10/dist-packages (from google-auth<3,>=1.6.3->tensorboard<2.16,>=2.15->tensorflow) (5.3.2)\n",
            "Requirement already satisfied: pyasn1-modules>=0.2.1 in /usr/local/lib/python3.10/dist-packages (from google-auth<3,>=1.6.3->tensorboard<2.16,>=2.15->tensorflow) (0.3.0)\n",
            "Requirement already satisfied: rsa<5,>=3.1.4 in /usr/local/lib/python3.10/dist-packages (from google-auth<3,>=1.6.3->tensorboard<2.16,>=2.15->tensorflow) (4.9)\n",
            "Requirement already satisfied: requests-oauthlib>=0.7.0 in /usr/local/lib/python3.10/dist-packages (from google-auth-oauthlib<2,>=0.5->tensorboard<2.16,>=2.15->tensorflow) (1.3.1)\n",
            "Requirement already satisfied: charset-normalizer<4,>=2 in /usr/local/lib/python3.10/dist-packages (from requests<3,>=2.21.0->tensorboard<2.16,>=2.15->tensorflow) (3.3.2)\n",
            "Requirement already satisfied: idna<4,>=2.5 in /usr/local/lib/python3.10/dist-packages (from requests<3,>=2.21.0->tensorboard<2.16,>=2.15->tensorflow) (3.6)\n",
            "Requirement already satisfied: urllib3<3,>=1.21.1 in /usr/local/lib/python3.10/dist-packages (from requests<3,>=2.21.0->tensorboard<2.16,>=2.15->tensorflow) (2.0.7)\n",
            "Requirement already satisfied: certifi>=2017.4.17 in /usr/local/lib/python3.10/dist-packages (from requests<3,>=2.21.0->tensorboard<2.16,>=2.15->tensorflow) (2023.11.17)\n",
            "Requirement already satisfied: MarkupSafe>=2.1.1 in /usr/local/lib/python3.10/dist-packages (from werkzeug>=1.0.1->tensorboard<2.16,>=2.15->tensorflow) (2.1.3)\n",
            "Requirement already satisfied: pyasn1<0.6.0,>=0.4.6 in /usr/local/lib/python3.10/dist-packages (from pyasn1-modules>=0.2.1->google-auth<3,>=1.6.3->tensorboard<2.16,>=2.15->tensorflow) (0.5.1)\n",
            "Requirement already satisfied: oauthlib>=3.0.0 in /usr/local/lib/python3.10/dist-packages (from requests-oauthlib>=0.7.0->google-auth-oauthlib<2,>=0.5->tensorboard<2.16,>=2.15->tensorflow) (3.2.2)\n"
          ]
        }
      ]
    },
    {
      "cell_type": "code",
      "source": [
        "import tensorflow as tf\n",
        "from tensorflow.keras import layers, models\n",
        "from tensorflow.keras.datasets import mnist\n",
        "from tensorflow.keras.utils import to_categorical\n",
        "\n",
        "# Carregando o conjunto de dados MNIST\n",
        "(train_images, train_labels), (test_images, test_labels) = mnist.load_data()\n",
        "\n",
        "# Normalizando os pixels para o intervalo [0, 1]\n",
        "train_images = train_images.reshape((60000, 28, 28, 1)).astype('float32') / 255\n",
        "test_images = test_images.reshape((10000, 28, 28, 1)).astype('float32') / 255\n",
        "\n",
        "# Convertendo os rótulos para one-hot encoding\n",
        "train_labels = to_categorical(train_labels)\n",
        "test_labels = to_categorical(test_labels)\n",
        "\n",
        "# Construindo a arquitetura do modelo\n",
        "model = models.Sequential()\n",
        "model.add(layers.Conv2D(32, (3, 3), activation='relu', input_shape=(28, 28, 1)))\n",
        "model.add(layers.MaxPooling2D((2, 2)))\n",
        "model.add(layers.Conv2D(64, (3, 3), activation='relu'))\n",
        "model.add(layers.MaxPooling2D((2, 2)))\n",
        "model.add(layers.Conv2D(64, (3, 3), activation='relu'))\n",
        "model.add(layers.Flatten())\n",
        "model.add(layers.Dense(64, activation='relu'))\n",
        "model.add(layers.Dense(10, activation='softmax'))\n",
        "\n",
        "# Compilando o modelo\n",
        "model.compile(optimizer='adam',\n",
        "              loss='categorical_crossentropy',\n",
        "              metrics=['accuracy'])\n",
        "\n",
        "# Treinando o modelo\n",
        "model.fit(train_images, train_labels, epochs=5, batch_size=64, validation_split=0.2)\n",
        "\n",
        "# Avaliando o modelo no conjunto de teste\n",
        "test_loss, test_acc = model.evaluate(test_images, test_labels)\n",
        "print(f'Accuracy: {test_acc:.4f}')\n"
      ],
      "metadata": {
        "colab": {
          "base_uri": "https://localhost:8080/"
        },
        "id": "TNNfrk9l0m_V",
        "outputId": "6f377818-4d18-4990-e03e-dd877a008ebd"
      },
      "execution_count": 4,
      "outputs": [
        {
          "output_type": "stream",
          "name": "stdout",
          "text": [
            "Epoch 1/5\n",
            "750/750 [==============================] - 48s 62ms/step - loss: 0.2136 - accuracy: 0.9346 - val_loss: 0.0651 - val_accuracy: 0.9818\n",
            "Epoch 2/5\n",
            "750/750 [==============================] - 45s 60ms/step - loss: 0.0584 - accuracy: 0.9822 - val_loss: 0.0482 - val_accuracy: 0.9859\n",
            "Epoch 3/5\n",
            "750/750 [==============================] - 44s 58ms/step - loss: 0.0405 - accuracy: 0.9874 - val_loss: 0.0454 - val_accuracy: 0.9856\n",
            "Epoch 4/5\n",
            "750/750 [==============================] - 43s 57ms/step - loss: 0.0322 - accuracy: 0.9903 - val_loss: 0.0372 - val_accuracy: 0.9893\n",
            "Epoch 5/5\n",
            "750/750 [==============================] - 43s 57ms/step - loss: 0.0261 - accuracy: 0.9914 - val_loss: 0.0391 - val_accuracy: 0.9886\n",
            "313/313 [==============================] - 3s 9ms/step - loss: 0.0326 - accuracy: 0.9899\n",
            "Acurácia no conjunto de teste: 0.9898999929428101\n"
          ]
        }
      ]
    },
    {
      "cell_type": "markdown",
      "source": [
        "**2 – utilize callbacks**\n",
        "\n",
        "•\tTensorboard: é configurado para salvar logs no diretório \"./logs\".\n",
        "\n",
        "•\tEarlyStopping: é configurado para parar o treino se a perda de validação não melhorar por 3 épocas.\n",
        "\n",
        "•\tModelCheckpoint: é configurado para salvar o melhor modelo com base na perda de validação.\n"
      ],
      "metadata": {
        "id": "fEKk8M7900QW"
      }
    },
    {
      "cell_type": "code",
      "source": [
        "pip install tensorboard"
      ],
      "metadata": {
        "colab": {
          "base_uri": "https://localhost:8080/"
        },
        "id": "KAa-40cl2WNl",
        "outputId": "2292e5b0-a640-49fe-9345-66967fe66989"
      },
      "execution_count": 11,
      "outputs": [
        {
          "output_type": "stream",
          "name": "stdout",
          "text": [
            "Requirement already satisfied: tensorboard in /usr/local/lib/python3.10/dist-packages (2.15.1)\n",
            "Requirement already satisfied: absl-py>=0.4 in /usr/local/lib/python3.10/dist-packages (from tensorboard) (1.4.0)\n",
            "Requirement already satisfied: grpcio>=1.48.2 in /usr/local/lib/python3.10/dist-packages (from tensorboard) (1.60.0)\n",
            "Requirement already satisfied: google-auth<3,>=1.6.3 in /usr/local/lib/python3.10/dist-packages (from tensorboard) (2.17.3)\n",
            "Requirement already satisfied: google-auth-oauthlib<2,>=0.5 in /usr/local/lib/python3.10/dist-packages (from tensorboard) (1.2.0)\n",
            "Requirement already satisfied: markdown>=2.6.8 in /usr/local/lib/python3.10/dist-packages (from tensorboard) (3.5.1)\n",
            "Requirement already satisfied: numpy>=1.12.0 in /usr/local/lib/python3.10/dist-packages (from tensorboard) (1.23.5)\n",
            "Requirement already satisfied: protobuf<4.24,>=3.19.6 in /usr/local/lib/python3.10/dist-packages (from tensorboard) (3.20.3)\n",
            "Requirement already satisfied: requests<3,>=2.21.0 in /usr/local/lib/python3.10/dist-packages (from tensorboard) (2.31.0)\n",
            "Requirement already satisfied: setuptools>=41.0.0 in /usr/local/lib/python3.10/dist-packages (from tensorboard) (67.7.2)\n",
            "Requirement already satisfied: six>1.9 in /usr/local/lib/python3.10/dist-packages (from tensorboard) (1.16.0)\n",
            "Requirement already satisfied: tensorboard-data-server<0.8.0,>=0.7.0 in /usr/local/lib/python3.10/dist-packages (from tensorboard) (0.7.2)\n",
            "Requirement already satisfied: werkzeug>=1.0.1 in /usr/local/lib/python3.10/dist-packages (from tensorboard) (3.0.1)\n",
            "Requirement already satisfied: cachetools<6.0,>=2.0.0 in /usr/local/lib/python3.10/dist-packages (from google-auth<3,>=1.6.3->tensorboard) (5.3.2)\n",
            "Requirement already satisfied: pyasn1-modules>=0.2.1 in /usr/local/lib/python3.10/dist-packages (from google-auth<3,>=1.6.3->tensorboard) (0.3.0)\n",
            "Requirement already satisfied: rsa<5,>=3.1.4 in /usr/local/lib/python3.10/dist-packages (from google-auth<3,>=1.6.3->tensorboard) (4.9)\n",
            "Requirement already satisfied: requests-oauthlib>=0.7.0 in /usr/local/lib/python3.10/dist-packages (from google-auth-oauthlib<2,>=0.5->tensorboard) (1.3.1)\n",
            "Requirement already satisfied: charset-normalizer<4,>=2 in /usr/local/lib/python3.10/dist-packages (from requests<3,>=2.21.0->tensorboard) (3.3.2)\n",
            "Requirement already satisfied: idna<4,>=2.5 in /usr/local/lib/python3.10/dist-packages (from requests<3,>=2.21.0->tensorboard) (3.6)\n",
            "Requirement already satisfied: urllib3<3,>=1.21.1 in /usr/local/lib/python3.10/dist-packages (from requests<3,>=2.21.0->tensorboard) (2.0.7)\n",
            "Requirement already satisfied: certifi>=2017.4.17 in /usr/local/lib/python3.10/dist-packages (from requests<3,>=2.21.0->tensorboard) (2023.11.17)\n",
            "Requirement already satisfied: MarkupSafe>=2.1.1 in /usr/local/lib/python3.10/dist-packages (from werkzeug>=1.0.1->tensorboard) (2.1.3)\n",
            "Requirement already satisfied: pyasn1<0.6.0,>=0.4.6 in /usr/local/lib/python3.10/dist-packages (from pyasn1-modules>=0.2.1->google-auth<3,>=1.6.3->tensorboard) (0.5.1)\n",
            "Requirement already satisfied: oauthlib>=3.0.0 in /usr/local/lib/python3.10/dist-packages (from requests-oauthlib>=0.7.0->google-auth-oauthlib<2,>=0.5->tensorboard) (3.2.2)\n"
          ]
        }
      ]
    },
    {
      "cell_type": "code",
      "source": [
        "#Callbacks são úteis para monitorar e interagir com o processo de treinamento durante cada época\n",
        "\n",
        "from tensorflow.keras.callbacks import TensorBoard, EarlyStopping, ModelCheckpoint\n",
        "\n",
        "# Carregando o conjunto de dados MNIST\n",
        "(train_images, train_labels), (test_images, test_labels) = mnist.load_data()\n",
        "\n",
        "# Normalizando os pixels para o intervalo [0, 1]\n",
        "train_images = train_images.reshape((60000, 28, 28, 1)).astype('float32') / 255\n",
        "test_images = test_images.reshape((10000, 28, 28, 1)).astype('float32') / 255\n",
        "\n",
        "# Convertendo os rótulos para one-hot encoding\n",
        "train_labels = to_categorical(train_labels)\n",
        "test_labels = to_categorical(test_labels)\n",
        "\n",
        "# Construindo a arquitetura do modelo\n",
        "model = models.Sequential()\n",
        "model.add(layers.Conv2D(32, (3, 3), activation='relu', input_shape=(28, 28, 1)))\n",
        "model.add(layers.MaxPooling2D((2, 2)))\n",
        "model.add(layers.Conv2D(64, (3, 3), activation='relu'))\n",
        "model.add(layers.MaxPooling2D((2, 2)))\n",
        "model.add(layers.Conv2D(64, (3, 3), activation='relu'))\n",
        "model.add(layers.Flatten())\n",
        "model.add(layers.Dense(64, activation='relu'))\n",
        "model.add(layers.Dense(10, activation='softmax'))\n",
        "\n",
        "# Compilando o modelo\n",
        "model.compile(optimizer='adam',\n",
        "              loss='categorical_crossentropy',\n",
        "              metrics=['accuracy'])\n",
        "\n",
        "# Callbacks\n",
        "tensorboard_callback = TensorBoard(log_dir='./logs', histogram_freq=1)\n",
        "early_stopping_callback = EarlyStopping(monitor='val_loss', patience=3)\n",
        "model_checkpoint_callback = ModelCheckpoint(filepath='best_model.h5', save_best_only=True)\n",
        "\n",
        "# Treinando o modelo com callbacks\n",
        "model.fit(train_images, train_labels,\n",
        "          epochs=50,\n",
        "          batch_size=64,\n",
        "          validation_split=0.2,\n",
        "          callbacks=[tensorboard_callback, early_stopping_callback, model_checkpoint_callback])\n",
        "\n",
        "# Avaliando o modelo no conjunto de teste\n",
        "test_loss, test_acc = model.evaluate(test_images, test_labels)\n",
        "print(f'Accuracy: {test_acc:.4f}')\n"
      ],
      "metadata": {
        "colab": {
          "base_uri": "https://localhost:8080/"
        },
        "id": "co94VkUF02se",
        "outputId": "1cfc10dd-099e-4abf-9331-b77bc3e164c4"
      },
      "execution_count": 12,
      "outputs": [
        {
          "output_type": "stream",
          "name": "stdout",
          "text": [
            "Epoch 1/50\n",
            "750/750 [==============================] - 45s 59ms/step - loss: 0.2191 - accuracy: 0.9325 - val_loss: 0.0708 - val_accuracy: 0.9799\n",
            "Epoch 2/50\n",
            "  3/750 [..............................] - ETA: 32s - loss: 0.0409 - accuracy: 0.9844"
          ]
        },
        {
          "output_type": "stream",
          "name": "stderr",
          "text": [
            "/usr/local/lib/python3.10/dist-packages/keras/src/engine/training.py:3103: UserWarning: You are saving your model as an HDF5 file via `model.save()`. This file format is considered legacy. We recommend using instead the native Keras format, e.g. `model.save('my_model.keras')`.\n",
            "  saving_api.save_model(\n"
          ]
        },
        {
          "output_type": "stream",
          "name": "stdout",
          "text": [
            "750/750 [==============================] - 43s 57ms/step - loss: 0.0590 - accuracy: 0.9812 - val_loss: 0.0649 - val_accuracy: 0.9812\n",
            "Epoch 3/50\n",
            "750/750 [==============================] - 43s 57ms/step - loss: 0.0400 - accuracy: 0.9868 - val_loss: 0.0480 - val_accuracy: 0.9862\n",
            "Epoch 4/50\n",
            "750/750 [==============================] - 43s 57ms/step - loss: 0.0309 - accuracy: 0.9904 - val_loss: 0.0421 - val_accuracy: 0.9898\n",
            "Epoch 5/50\n",
            "750/750 [==============================] - 42s 56ms/step - loss: 0.0257 - accuracy: 0.9919 - val_loss: 0.0450 - val_accuracy: 0.9872\n",
            "Epoch 6/50\n",
            "750/750 [==============================] - 42s 56ms/step - loss: 0.0208 - accuracy: 0.9932 - val_loss: 0.0410 - val_accuracy: 0.9897\n",
            "Epoch 7/50\n",
            "750/750 [==============================] - 42s 56ms/step - loss: 0.0166 - accuracy: 0.9947 - val_loss: 0.0373 - val_accuracy: 0.9890\n",
            "Epoch 8/50\n",
            "750/750 [==============================] - 42s 56ms/step - loss: 0.0149 - accuracy: 0.9953 - val_loss: 0.0372 - val_accuracy: 0.9904\n",
            "Epoch 9/50\n",
            "750/750 [==============================] - 42s 56ms/step - loss: 0.0135 - accuracy: 0.9958 - val_loss: 0.0387 - val_accuracy: 0.9904\n",
            "Epoch 10/50\n",
            "750/750 [==============================] - 42s 56ms/step - loss: 0.0106 - accuracy: 0.9968 - val_loss: 0.0524 - val_accuracy: 0.9868\n",
            "Epoch 11/50\n",
            "750/750 [==============================] - 42s 56ms/step - loss: 0.0089 - accuracy: 0.9971 - val_loss: 0.0566 - val_accuracy: 0.9865\n",
            "313/313 [==============================] - 3s 9ms/step - loss: 0.0433 - accuracy: 0.9898\n",
            "Acurácia no conjunto de teste: 0.989799976348877\n"
          ]
        }
      ]
    },
    {
      "cell_type": "markdown",
      "source": [
        "**3 - Model Evaluation**"
      ],
      "metadata": {
        "id": "x-zjBwVU06S5"
      }
    },
    {
      "cell_type": "code",
      "source": [
        "# Importando bibliotecas necessárias\n",
        "from sklearn.metrics import classification_report, confusion_matrix\n",
        "import matplotlib.pyplot as plt\n",
        "import seaborn as sns\n",
        "import numpy as np\n",
        "\n",
        "# Função para plotar matriz de confusão\n",
        "def plot_confusion_matrix(y_true, y_pred, classes):\n",
        "    cm = confusion_matrix(y_true, y_pred)\n",
        "    plt.figure(figsize=(8, 8))\n",
        "    sns.heatmap(cm, annot=True, fmt=\"d\", cmap=\"Blues\", xticklabels=classes, yticklabels=classes)\n",
        "    plt.title(\"Matriz de Confusão\")\n",
        "    plt.xlabel(\"Valores Preditos\")\n",
        "    plt.ylabel(\"Valores Verdadeiros\")\n",
        "    plt.show()\n",
        "\n",
        "# Função para avaliar o modelo\n",
        "def evaluate_model(model, test_images, test_labels, class_names):\n",
        "    # Avaliando o modelo no conjunto de teste\n",
        "    test_loss, test_acc = model.evaluate(test_images, test_labels)\n",
        "    print(f'Accuracy: {test_acc:.4f}')\n",
        "\n",
        "    # Fazendo previsões no conjunto de teste\n",
        "    predictions = model.predict(test_images)\n",
        "    predicted_classes = np.argmax(predictions, axis=1)\n",
        "    true_classes = np.argmax(test_labels, axis=1)\n",
        "\n",
        "    # Relatório de classificação\n",
        "    print(\"\\nRelatório de Classificação:\")\n",
        "    print(classification_report(true_classes, predicted_classes, target_names=class_names))\n",
        "\n",
        "    # Matriz de Confusão\n",
        "    plot_confusion_matrix(true_classes, predicted_classes, class_names)\n",
        "\n",
        "# Class names para o conjunto de dados MNIST\n",
        "class_names = [str(i) for i in range(10)]\n",
        "\n",
        "# Chame a função de avaliação\n",
        "evaluate_model(model, test_images, test_labels, class_names)\n"
      ],
      "metadata": {
        "colab": {
          "base_uri": "https://localhost:8080/",
          "height": 1000
        },
        "id": "4R6dmhOg066f",
        "outputId": "72b12330-6ebf-4e2c-a5db-9a37c5c3dc35"
      },
      "execution_count": 13,
      "outputs": [
        {
          "output_type": "stream",
          "name": "stdout",
          "text": [
            "313/313 [==============================] - 3s 9ms/step - loss: 0.0433 - accuracy: 0.9898\n",
            "Acurácia no conjunto de teste: 0.989799976348877\n",
            "313/313 [==============================] - 3s 10ms/step\n",
            "\n",
            "Relatório de Classificação:\n",
            "              precision    recall  f1-score   support\n",
            "\n",
            "           0       0.98      0.99      0.99       980\n",
            "           1       0.99      1.00      1.00      1135\n",
            "           2       1.00      0.99      0.99      1032\n",
            "           3       0.99      0.99      0.99      1010\n",
            "           4       0.99      0.99      0.99       982\n",
            "           5       1.00      0.99      0.99       892\n",
            "           6       1.00      0.98      0.99       958\n",
            "           7       0.98      1.00      0.99      1028\n",
            "           8       0.99      0.98      0.99       974\n",
            "           9       0.98      0.99      0.98      1009\n",
            "\n",
            "    accuracy                           0.99     10000\n",
            "   macro avg       0.99      0.99      0.99     10000\n",
            "weighted avg       0.99      0.99      0.99     10000\n",
            "\n"
          ]
        },
        {
          "output_type": "display_data",
          "data": {
            "text/plain": [
              "<Figure size 800x800 with 2 Axes>"
            ],
            "image/png": "[encoded data removed]"
          },
          "metadata": {}
        }
      ]
    },
    {
      "cell_type": "markdown",
      "source": [
        "**4 – create a Lenet CNN in keras framework**\n",
        "\n",
        "\n",
        "LeNet-5 é uma arquitetura de rede neural convolucional clássica desenvolvida por Yann LeCun e seus colaboradores para reconhecimento de dígitos manuscritos."
      ],
      "metadata": {
        "id": "gO0H0BmI09lF"
      }
    },
    {
      "cell_type": "code",
      "source": [
        "from tensorflow.keras import layers, models\n",
        "\n",
        "# Definindo a arquitetura da rede LeNet-5\n",
        "def create_lenet_model(input_shape=(32, 32, 1), num_classes=10):\n",
        "    model = models.Sequential()\n",
        "\n",
        "    # Camada 1: Convolucional + ReLU + Pooling\n",
        "    model.add(layers.Conv2D(6, (5, 5), activation='relu', input_shape=input_shape))\n",
        "    model.add(layers.MaxPooling2D((2, 2)))\n",
        "\n",
        "    # Camada 2: Convolucional + ReLU + Pooling\n",
        "    model.add(layers.Conv2D(16, (5, 5), activation='relu'))\n",
        "    model.add(layers.MaxPooling2D((2, 2)))\n",
        "\n",
        "    # Camada 3: Flatten + Totalmente Conectada + ReLU\n",
        "    model.add(layers.Flatten())\n",
        "    model.add(layers.Dense(120, activation='relu'))\n",
        "\n",
        "    # Camada 4: Totalmente Conectada + ReLU\n",
        "    model.add(layers.Dense(84, activation='relu'))\n",
        "\n",
        "    # Camada de Saída: Totalmente Conectada com ativação softmax\n",
        "    model.add(layers.Dense(num_classes, activation='softmax'))\n",
        "\n",
        "    return model\n",
        "\n",
        "# Crie o modelo\n",
        "lenet_model = create_lenet_model()\n",
        "\n",
        "# Resumo do modelo\n",
        "lenet_model.summary()\n"
      ],
      "metadata": {
        "colab": {
          "base_uri": "https://localhost:8080/"
        },
        "id": "jFwiy0pr0_zX",
        "outputId": "f5e45f6d-34a7-4bb5-d124-c5016eb55b3e"
      },
      "execution_count": 14,
      "outputs": [
        {
          "output_type": "stream",
          "name": "stdout",
          "text": [
            "Model: \"sequential_2\"\n",
            "_________________________________________________________________\n",
            " Layer (type)                Output Shape              Param #   \n",
            "=================================================================\n",
            " conv2d_6 (Conv2D)           (None, 28, 28, 6)         156       \n",
            "                                                                 \n",
            " max_pooling2d_4 (MaxPoolin  (None, 14, 14, 6)         0         \n",
            " g2D)                                                            \n",
            "                                                                 \n",
            " conv2d_7 (Conv2D)           (None, 10, 10, 16)        2416      \n",
            "                                                                 \n",
            " max_pooling2d_5 (MaxPoolin  (None, 5, 5, 16)          0         \n",
            " g2D)                                                            \n",
            "                                                                 \n",
            " flatten_2 (Flatten)         (None, 400)               0         \n",
            "                                                                 \n",
            " dense_4 (Dense)             (None, 120)               48120     \n",
            "                                                                 \n",
            " dense_5 (Dense)             (None, 84)                10164     \n",
            "                                                                 \n",
            " dense_6 (Dense)             (None, 10)                850       \n",
            "                                                                 \n",
            "=================================================================\n",
            "Total params: 61706 (241.04 KB)\n",
            "Trainable params: 61706 (241.04 KB)\n",
            "Non-trainable params: 0 (0.00 Byte)\n",
            "_________________________________________________________________\n"
          ]
        }
      ]
    },
    {
      "cell_type": "markdown",
      "source": [
        "**5 – Train the CNN**\n",
        "\n",
        "Neste exemplo:\n",
        "\n",
        "- Os dados MNIST são carregados e normalizados.\n",
        "\n",
        "- Os rótulos são convertidos para one-hot encoding.\n",
        "\n",
        "- O conjunto de treinamento é dividido em conjuntos de treinamento e validação usando train_test_split.\n",
        "\n",
        "- O modelo LeNet-5 é criado.\n",
        "\n",
        "- O modelo é compilado com um otimizador 'adam', função de perda 'categorical_crossentropy' e métrica 'accuracy'.\n",
        "\n",
        "- O modelo é treinado usando fit com os dados de treinamento e validação."
      ],
      "metadata": {
        "id": "4oX1tmAY0_8f"
      }
    },
    {
      "cell_type": "code",
      "source": [
        "from tensorflow.keras.datasets import mnist\n",
        "from tensorflow.keras.utils import to_categorical\n",
        "from sklearn.model_selection import train_test_split\n",
        "\n",
        "# Carregando o conjunto de dados MNIST\n",
        "(train_images, train_labels), (test_images, test_labels) = mnist.load_data()\n",
        "\n",
        "# Normalizando os pixels para o intervalo [0, 1]\n",
        "train_images = train_images.reshape((60000, 28, 28, 1)).astype('float32') / 255\n",
        "test_images = test_images.reshape((10000, 28, 28, 1)).astype('float32') / 255\n",
        "\n",
        "# Convertendo os rótulos para one-hot encoding\n",
        "train_labels = to_categorical(train_labels)\n",
        "test_labels = to_categorical(test_labels)\n",
        "\n",
        "# Dividindo o conjunto de treinamento em treinamento e validação\n",
        "train_images, val_images, train_labels, val_labels = train_test_split(\n",
        "    train_images, train_labels, test_size=0.2, random_state=42\n",
        ")\n",
        "\n",
        "# Criando o modelo LeNet-5\n",
        "lenet_model = create_lenet_model(input_shape=(28, 28, 1), num_classes=10)\n",
        "\n",
        "# Compilando o modelo\n",
        "lenet_model.compile(optimizer='adam',\n",
        "                    loss='categorical_crossentropy',\n",
        "                    metrics=['accuracy'])\n",
        "\n",
        "# Treinando o modelo\n",
        "history = lenet_model.fit(train_images, train_labels,\n",
        "                          epochs=10,\n",
        "                          batch_size=64,\n",
        "                          validation_data=(val_images, val_labels))\n"
      ],
      "metadata": {
        "colab": {
          "base_uri": "https://localhost:8080/"
        },
        "id": "fbUsGWfM1CpG",
        "outputId": "ccdeae6f-bf2a-4624-f459-65e3afffcc01"
      },
      "execution_count": 15,
      "outputs": [
        {
          "output_type": "stream",
          "name": "stdout",
          "text": [
            "Epoch 1/10\n",
            "750/750 [==============================] - 22s 28ms/step - loss: 0.2841 - accuracy: 0.9133 - val_loss: 0.1148 - val_accuracy: 0.9627\n",
            "Epoch 2/10\n",
            "750/750 [==============================] - 24s 33ms/step - loss: 0.0804 - accuracy: 0.9754 - val_loss: 0.0648 - val_accuracy: 0.9807\n",
            "Epoch 3/10\n",
            "750/750 [==============================] - 21s 28ms/step - loss: 0.0573 - accuracy: 0.9811 - val_loss: 0.0673 - val_accuracy: 0.9795\n",
            "Epoch 4/10\n",
            "750/750 [==============================] - 23s 31ms/step - loss: 0.0442 - accuracy: 0.9858 - val_loss: 0.0494 - val_accuracy: 0.9859\n",
            "Epoch 5/10\n",
            "750/750 [==============================] - 26s 35ms/step - loss: 0.0365 - accuracy: 0.9881 - val_loss: 0.0461 - val_accuracy: 0.9858\n",
            "Epoch 6/10\n",
            "750/750 [==============================] - 21s 28ms/step - loss: 0.0318 - accuracy: 0.9896 - val_loss: 0.0483 - val_accuracy: 0.9857\n",
            "Epoch 7/10\n",
            "750/750 [==============================] - 20s 27ms/step - loss: 0.0264 - accuracy: 0.9912 - val_loss: 0.0494 - val_accuracy: 0.9858\n",
            "Epoch 8/10\n",
            "750/750 [==============================] - 21s 28ms/step - loss: 0.0224 - accuracy: 0.9925 - val_loss: 0.0433 - val_accuracy: 0.9894\n",
            "Epoch 9/10\n",
            "750/750 [==============================] - 25s 33ms/step - loss: 0.0208 - accuracy: 0.9934 - val_loss: 0.0413 - val_accuracy: 0.9875\n",
            "Epoch 10/10\n",
            "750/750 [==============================] - 28s 38ms/step - loss: 0.0169 - accuracy: 0.9944 - val_loss: 0.0419 - val_accuracy: 0.9893\n"
          ]
        }
      ]
    },
    {
      "cell_type": "markdown",
      "source": [
        "**6 – utilize callbacks**\n",
        "\n",
        "•\tTensorboard\n",
        "\n",
        "•\tEarlyStopping\n",
        "\n",
        "•\tModelCheckpoint\n"
      ],
      "metadata": {
        "id": "M6vKMcxE1C2d"
      }
    },
    {
      "cell_type": "code",
      "source": [
        "from tensorflow.keras.callbacks import TensorBoard, EarlyStopping, ModelCheckpoint\n",
        "from datetime import datetime\n",
        "\n",
        "# Criando um diretório para os logs TensorBoard\n",
        "log_dir = \"logs/\" + datetime.now().strftime(\"%Y%m%d-%H%M%S\")\n",
        "tensorboard_callback = TensorBoard(log_dir=log_dir, histogram_freq=1)\n",
        "\n",
        "# Definindo o callback EarlyStopping\n",
        "early_stopping_callback = EarlyStopping(monitor='val_loss', patience=3)\n",
        "\n",
        "# Definindo o callback ModelCheckpoint\n",
        "model_checkpoint_callback = ModelCheckpoint(filepath='best_lenet_model.h5', save_best_only=True)\n",
        "\n",
        "# Criando o modelo LeNet-5\n",
        "lenet_model = create_lenet_model(input_shape=(28, 28, 1), num_classes=10)\n",
        "\n",
        "# Compilando o modelo\n",
        "lenet_model.compile(optimizer='adam',\n",
        "                    loss='categorical_crossentropy',\n",
        "                    metrics=['accuracy'])\n",
        "\n",
        "# Treinando o modelo com callbacks\n",
        "history = lenet_model.fit(train_images, train_labels,\n",
        "                          epochs=20,\n",
        "                          batch_size=64,\n",
        "                          validation_data=(val_images, val_labels),\n",
        "                          callbacks=[tensorboard_callback, early_stopping_callback, model_checkpoint_callback])\n"
      ],
      "metadata": {
        "colab": {
          "base_uri": "https://localhost:8080/"
        },
        "id": "_Y9OJGQ71GiF",
        "outputId": "58d902f1-eb7d-476e-a047-1cbc73876a9d"
      },
      "execution_count": 16,
      "outputs": [
        {
          "output_type": "stream",
          "name": "stdout",
          "text": [
            "Epoch 1/20\n",
            "750/750 [==============================] - 22s 29ms/step - loss: 0.2814 - accuracy: 0.9132 - val_loss: 0.0927 - val_accuracy: 0.9710\n",
            "Epoch 2/20\n",
            "  3/750 [..............................] - ETA: 28s - loss: 0.1337 - accuracy: 0.9688"
          ]
        },
        {
          "output_type": "stream",
          "name": "stderr",
          "text": [
            "/usr/local/lib/python3.10/dist-packages/keras/src/engine/training.py:3103: UserWarning: You are saving your model as an HDF5 file via `model.save()`. This file format is considered legacy. We recommend using instead the native Keras format, e.g. `model.save('my_model.keras')`.\n",
            "  saving_api.save_model(\n"
          ]
        },
        {
          "output_type": "stream",
          "name": "stdout",
          "text": [
            "750/750 [==============================] - 23s 31ms/step - loss: 0.0840 - accuracy: 0.9736 - val_loss: 0.0704 - val_accuracy: 0.9787\n",
            "Epoch 3/20\n",
            "750/750 [==============================] - 22s 29ms/step - loss: 0.0591 - accuracy: 0.9812 - val_loss: 0.0539 - val_accuracy: 0.9828\n",
            "Epoch 4/20\n",
            "750/750 [==============================] - 20s 27ms/step - loss: 0.0489 - accuracy: 0.9845 - val_loss: 0.0555 - val_accuracy: 0.9829\n",
            "Epoch 5/20\n",
            "750/750 [==============================] - 21s 28ms/step - loss: 0.0400 - accuracy: 0.9871 - val_loss: 0.0535 - val_accuracy: 0.9841\n",
            "Epoch 6/20\n",
            "750/750 [==============================] - 21s 28ms/step - loss: 0.0338 - accuracy: 0.9892 - val_loss: 0.0650 - val_accuracy: 0.9806\n",
            "Epoch 7/20\n",
            "750/750 [==============================] - 21s 29ms/step - loss: 0.0291 - accuracy: 0.9910 - val_loss: 0.0438 - val_accuracy: 0.9871\n",
            "Epoch 8/20\n",
            "750/750 [==============================] - 21s 28ms/step - loss: 0.0257 - accuracy: 0.9915 - val_loss: 0.0457 - val_accuracy: 0.9868\n",
            "Epoch 9/20\n",
            "750/750 [==============================] - 22s 29ms/step - loss: 0.0229 - accuracy: 0.9923 - val_loss: 0.0430 - val_accuracy: 0.9878\n",
            "Epoch 10/20\n",
            "750/750 [==============================] - 21s 28ms/step - loss: 0.0185 - accuracy: 0.9936 - val_loss: 0.0483 - val_accuracy: 0.9869\n",
            "Epoch 11/20\n",
            "750/750 [==============================] - 22s 29ms/step - loss: 0.0191 - accuracy: 0.9934 - val_loss: 0.0502 - val_accuracy: 0.9874\n",
            "Epoch 12/20\n",
            "750/750 [==============================] - 20s 27ms/step - loss: 0.0160 - accuracy: 0.9947 - val_loss: 0.0433 - val_accuracy: 0.9884\n"
          ]
        }
      ]
    },
    {
      "cell_type": "markdown",
      "source": [
        "**7- Model Evaluation**"
      ],
      "metadata": {
        "id": "QcZif9CP1HI9"
      }
    },
    {
      "cell_type": "code",
      "source": [
        "# Função para plotar matriz de confusão\n",
        "def plot_confusion_matrix(y_true, y_pred, classes):\n",
        "    cm = confusion_matrix(y_true, y_pred)\n",
        "    plt.figure(figsize=(8, 8))\n",
        "    sns.heatmap(cm, annot=True, fmt=\"d\", cmap=\"Blues\", xticklabels=classes, yticklabels=classes)\n",
        "    plt.title(\"Matriz de Confusão\")\n",
        "    plt.xlabel(\"Valores Preditos\")\n",
        "    plt.ylabel(\"Valores Verdadeiros\")\n",
        "    plt.show()\n",
        "\n",
        "# Função para avaliar o modelo\n",
        "def evaluate_model(model, test_images, test_labels, class_names):\n",
        "    # Avaliando o modelo no conjunto de teste\n",
        "    test_loss, test_acc = model.evaluate(test_images, test_labels)\n",
        "    print(f'Accuracy: {test_acc:.4f}')\n",
        "\n",
        "    # Fazendo previsões no conjunto de teste\n",
        "    predictions = model.predict(test_images)\n",
        "    predicted_classes = np.argmax(predictions, axis=1)\n",
        "    true_classes = np.argmax(test_labels, axis=1)\n",
        "\n",
        "    # Relatório de classificação\n",
        "    print(\"\\nRelatório de Classificação:\")\n",
        "    print(classification_report(true_classes, predicted_classes, target_names=class_names))\n",
        "\n",
        "    # Matriz de Confusão\n",
        "    plot_confusion_matrix(true_classes, predicted_classes, class_names)\n",
        "\n",
        "# Class names para o conjunto de dados MNIST\n",
        "class_names = [str(i) for i in range(10)]\n",
        "\n",
        "# Chame a função de avaliação\n",
        "evaluate_model(lenet_model, test_images, test_labels, class_names)\n"
      ],
      "metadata": {
        "colab": {
          "base_uri": "https://localhost:8080/",
          "height": 1000
        },
        "id": "kJQUs56k1KFc",
        "outputId": "ddf95b23-0aed-4043-b584-5418f8100b49"
      },
      "execution_count": 17,
      "outputs": [
        {
          "output_type": "stream",
          "name": "stdout",
          "text": [
            "313/313 [==============================] - 2s 7ms/step - loss: 0.0366 - accuracy: 0.9892\n",
            "Accuracy: 0.9892\n",
            "313/313 [==============================] - 2s 7ms/step\n",
            "\n",
            "Relatório de Classificação:\n",
            "              precision    recall  f1-score   support\n",
            "\n",
            "           0       0.99      0.99      0.99       980\n",
            "           1       0.99      1.00      1.00      1135\n",
            "           2       0.99      0.99      0.99      1032\n",
            "           3       0.99      0.99      0.99      1010\n",
            "           4       1.00      0.98      0.99       982\n",
            "           5       0.98      0.99      0.98       892\n",
            "           6       0.99      0.99      0.99       958\n",
            "           7       0.98      0.99      0.99      1028\n",
            "           8       0.99      0.98      0.99       974\n",
            "           9       0.98      0.99      0.99      1009\n",
            "\n",
            "    accuracy                           0.99     10000\n",
            "   macro avg       0.99      0.99      0.99     10000\n",
            "weighted avg       0.99      0.99      0.99     10000\n",
            "\n"
          ]
        },
        {
          "output_type": "display_data",
          "data": {
            "text/plain": [
              "<Figure size 800x800 with 2 Axes>"
            ],
            "image/png": "[encoded data removed]"
          },
          "metadata": {}
        }
      ]
    }
  ]
}